{
  "nbformat": 4,
  "nbformat_minor": 0,
  "metadata": {
    "colab": {
      "provenance": [],
      "authorship_tag": "ABX9TyNYcedPK4er4DtpoyYmyLmp",
      "include_colab_link": true
    },
    "kernelspec": {
      "name": "python3",
      "display_name": "Python 3"
    },
    "language_info": {
      "name": "python"
    }
  },
  "cells": [
    {
      "cell_type": "markdown",
      "metadata": {
        "id": "view-in-github",
        "colab_type": "text"
      },
      "source": [
        "<a href=\"https://colab.research.google.com/github/reshmamk115/numpy/blob/main/data_science.ipynb\" target=\"_parent\"><img src=\"https://colab.research.google.com/assets/colab-badge.svg\" alt=\"Open In Colab\"/></a>"
      ]
    },
    {
      "cell_type": "code",
      "execution_count": null,
      "metadata": {
        "colab": {
          "base_uri": "https://localhost:8080/"
        },
        "id": "N0eM_rPjFUcF",
        "outputId": "735bac05-9dd3-4ec2-f0c0-4ca504abb980"
      },
      "outputs": [
        {
          "output_type": "stream",
          "name": "stdout",
          "text": [
            "[1. 2. 3. 4.]\n"
          ]
        }
      ],
      "source": [
        "import numpy as np    #numerical python\n",
        "\n",
        "#array  collection of data with same datatype(homogenous)\n",
        "a=np.array([1,2,3.0,4])\n",
        "print(a)"
      ]
    },
    {
      "cell_type": "code",
      "source": [
        "#slicing\n",
        "b=np.array([1,2,3,4,5])\n",
        "b[0:2]\n",
        "b[-1:-3:-1]\n",
        "b[3:5]"
      ],
      "metadata": {
        "colab": {
          "base_uri": "https://localhost:8080/"
        },
        "id": "7jrIC0uXHPIA",
        "outputId": "daee3a69-69e7-4df9-8665-c7f4dc756c64"
      },
      "execution_count": null,
      "outputs": [
        {
          "output_type": "execute_result",
          "data": {
            "text/plain": [
              "array([4, 5])"
            ]
          },
          "metadata": {},
          "execution_count": 17
        }
      ]
    },
    {
      "cell_type": "code",
      "source": [
        "#dimension\n",
        "\n",
        "a=np.array([0])\n",
        "a.ndim       #dim=1 for a vector"
      ],
      "metadata": {
        "colab": {
          "base_uri": "https://localhost:8080/"
        },
        "id": "ndKaXo8bJHpQ",
        "outputId": "9ff632e1-edbe-4f13-d862-41e17f356aba"
      },
      "execution_count": null,
      "outputs": [
        {
          "output_type": "execute_result",
          "data": {
            "text/plain": [
              "1"
            ]
          },
          "metadata": {},
          "execution_count": 18
        }
      ]
    },
    {
      "cell_type": "code",
      "source": [
        "b=np.array([[1,2],[4,5]])\n",
        "b.ndim        #dim=2 for matrix\n",
        "\n",
        "b.shape"
      ],
      "metadata": {
        "colab": {
          "base_uri": "https://localhost:8080/"
        },
        "id": "6uAw1uDvJZFy",
        "outputId": "acc26fc8-5bfe-4150-f48b-d48ff1a1afcd"
      },
      "execution_count": null,
      "outputs": [
        {
          "output_type": "execute_result",
          "data": {
            "text/plain": [
              "(2, 2)"
            ]
          },
          "metadata": {},
          "execution_count": 21
        }
      ]
    },
    {
      "cell_type": "code",
      "source": [
        "#create a 2*2 matrix 2,3,4,5\n",
        "\n",
        "\n",
        "c=np.array([[2,3],[4,5]])\n",
        "print(c)\n",
        "\n",
        "print(c.shape)\n",
        "print(c.ndim)\n",
        "\n",
        "print(c.size)       #gives total number of elements"
      ],
      "metadata": {
        "colab": {
          "base_uri": "https://localhost:8080/"
        },
        "id": "mtdh1eA4KeNk",
        "outputId": "ca0e2e29-4fba-4d72-c680-9c8af57a9427"
      },
      "execution_count": null,
      "outputs": [
        {
          "output_type": "stream",
          "name": "stdout",
          "text": [
            "[[2 3]\n",
            " [4 5]]\n",
            "(2, 2)\n",
            "2\n",
            "4\n"
          ]
        }
      ]
    },
    {
      "cell_type": "code",
      "source": [
        "#create a 2*3 matrix amd print size,shape,dimension\n",
        "\n",
        "\n",
        "p=np.array([[1,5,9],[6,4,2]])\n",
        "print(p)\n",
        "print(p.shape)\n",
        "print(p.size)\n",
        "print(p.ndim)"
      ],
      "metadata": {
        "colab": {
          "base_uri": "https://localhost:8080/"
        },
        "id": "q7wzlt68Lb7H",
        "outputId": "162a3b1a-573f-4136-bd63-0165482ec732"
      },
      "execution_count": null,
      "outputs": [
        {
          "output_type": "stream",
          "name": "stdout",
          "text": [
            "[[1 5 9]\n",
            " [6 4 2]]\n",
            "(2, 3)\n",
            "6\n",
            "2\n"
          ]
        }
      ]
    },
    {
      "cell_type": "code",
      "source": [
        "#create a 4*2 matrix print its size shape dimension\n",
        "\n",
        "i=np.array([[8,6],[2,6],[4,1],[5,2]])\n",
        "print(i)\n",
        "print(i.size)\n",
        "print(i.shape)\n",
        "print(i.ndim)"
      ],
      "metadata": {
        "colab": {
          "base_uri": "https://localhost:8080/"
        },
        "id": "R2d0nnnBMWew",
        "outputId": "acca0eef-68da-412d-c147-cfac3f627c90"
      },
      "execution_count": null,
      "outputs": [
        {
          "output_type": "stream",
          "name": "stdout",
          "text": [
            "[[8 6]\n",
            " [2 6]\n",
            " [4 1]\n",
            " [5 2]]\n",
            "8\n",
            "(4, 2)\n",
            "2\n"
          ]
        }
      ]
    },
    {
      "cell_type": "code",
      "source": [
        "#create a 4*4 matrix\n",
        "\n",
        "s=np.array([[1,2,3,6],[7,8,9,4],[5,6,1,2],[5,2,3,9]])\n",
        "print(s)\n",
        "print(s.size)\n",
        "print(s.shape)\n",
        "print(s.ndim)"
      ],
      "metadata": {
        "colab": {
          "base_uri": "https://localhost:8080/"
        },
        "id": "4LH6WCRmNbRY",
        "outputId": "e3c42f2d-3a8a-40d2-dd85-a11a3f0fb6ea"
      },
      "execution_count": null,
      "outputs": [
        {
          "output_type": "stream",
          "name": "stdout",
          "text": [
            "[[1 2 3 6]\n",
            " [7 8 9 4]\n",
            " [5 6 1 2]\n",
            " [5 2 3 9]]\n",
            "16\n",
            "(4, 4)\n",
            "2\n"
          ]
        }
      ]
    },
    {
      "cell_type": "code",
      "source": [
        "import numpy as np\n",
        "s=np.array([[1,2,3,6],[7,8,9,4],[5,6,1,2],[5,2,3,9]])\n",
        "print(s)\n",
        "s[0]       #gives 0th row\n",
        "s[:,0]    #gives 0th column"
      ],
      "metadata": {
        "colab": {
          "base_uri": "https://localhost:8080/"
        },
        "id": "vumWoVXcEfIC",
        "outputId": "ab837827-0f55-4b32-f35f-ab1db3d26468"
      },
      "execution_count": null,
      "outputs": [
        {
          "output_type": "stream",
          "name": "stdout",
          "text": [
            "[[1 2 3 6]\n",
            " [7 8 9 4]\n",
            " [5 6 1 2]\n",
            " [5 2 3 9]]\n"
          ]
        },
        {
          "output_type": "execute_result",
          "data": {
            "text/plain": [
              "array([1, 7, 5, 5])"
            ]
          },
          "metadata": {},
          "execution_count": 5
        }
      ]
    },
    {
      "cell_type": "code",
      "source": [
        "s[1,1]       #elemnt based on index ---(row,column)"
      ],
      "metadata": {
        "colab": {
          "base_uri": "https://localhost:8080/"
        },
        "id": "pRvsEksKGJ_Z",
        "outputId": "f5910483-5e2f-44c5-bf32-235897a710cf"
      },
      "execution_count": null,
      "outputs": [
        {
          "output_type": "execute_result",
          "data": {
            "text/plain": [
              "np.int64(8)"
            ]
          },
          "metadata": {},
          "execution_count": 6
        }
      ]
    },
    {
      "cell_type": "code",
      "source": [
        "s[3,2:]          #for more than one element"
      ],
      "metadata": {
        "colab": {
          "base_uri": "https://localhost:8080/"
        },
        "id": "lXa1fmLYGZZ_",
        "outputId": "478821a5-13ce-4175-f83c-6ea15f4ac253"
      },
      "execution_count": null,
      "outputs": [
        {
          "output_type": "execute_result",
          "data": {
            "text/plain": [
              "array([3, 9])"
            ]
          },
          "metadata": {},
          "execution_count": 7
        }
      ]
    },
    {
      "cell_type": "code",
      "source": [
        "s[2:,2:]"
      ],
      "metadata": {
        "colab": {
          "base_uri": "https://localhost:8080/"
        },
        "id": "3z--DBuRG49m",
        "outputId": "d59dd999-f881-43d2-d9ec-f0066703f9af"
      },
      "execution_count": null,
      "outputs": [
        {
          "output_type": "execute_result",
          "data": {
            "text/plain": [
              "array([[1, 2],\n",
              "       [3, 9]])"
            ]
          },
          "metadata": {},
          "execution_count": 8
        }
      ]
    },
    {
      "cell_type": "code",
      "source": [
        "s[2:,1:3]"
      ],
      "metadata": {
        "colab": {
          "base_uri": "https://localhost:8080/"
        },
        "id": "X5GkddH3Hqto",
        "outputId": "03519836-1f46-4d6e-ef58-e20214881d89"
      },
      "execution_count": null,
      "outputs": [
        {
          "output_type": "execute_result",
          "data": {
            "text/plain": [
              "array([[6, 1],\n",
              "       [2, 3]])"
            ]
          },
          "metadata": {},
          "execution_count": 10
        }
      ]
    },
    {
      "cell_type": "code",
      "source": [
        "s[1:3,3]"
      ],
      "metadata": {
        "colab": {
          "base_uri": "https://localhost:8080/"
        },
        "id": "357QZnhgH39y",
        "outputId": "a12b19f9-e395-48f0-ee6c-75b29c612cb5"
      },
      "execution_count": null,
      "outputs": [
        {
          "output_type": "execute_result",
          "data": {
            "text/plain": [
              "array([4, 2])"
            ]
          },
          "metadata": {},
          "execution_count": 12
        }
      ]
    },
    {
      "cell_type": "code",
      "source": [
        "s[1:3,0:3]"
      ],
      "metadata": {
        "colab": {
          "base_uri": "https://localhost:8080/"
        },
        "id": "m7hDXvZjIMoy",
        "outputId": "d422a465-1c59-4848-ba42-ccbe29a48931"
      },
      "execution_count": null,
      "outputs": [
        {
          "output_type": "execute_result",
          "data": {
            "text/plain": [
              "array([[7, 8, 9],\n",
              "       [5, 6, 1]])"
            ]
          },
          "metadata": {},
          "execution_count": 13
        }
      ]
    },
    {
      "cell_type": "code",
      "source": [
        "s[0:3,1:]"
      ],
      "metadata": {
        "colab": {
          "base_uri": "https://localhost:8080/"
        },
        "id": "BlKj1yNzIjvZ",
        "outputId": "17f0061b-c943-4081-c639-924baabb0046"
      },
      "execution_count": null,
      "outputs": [
        {
          "output_type": "execute_result",
          "data": {
            "text/plain": [
              "array([[2, 3, 6],\n",
              "       [8, 9, 4],\n",
              "       [6, 1, 2]])"
            ]
          },
          "metadata": {},
          "execution_count": 14
        }
      ]
    },
    {
      "cell_type": "code",
      "source": [
        "s[1:,0:]"
      ],
      "metadata": {
        "colab": {
          "base_uri": "https://localhost:8080/"
        },
        "id": "R-_SJtTaI7gq",
        "outputId": "033006ef-cd5d-49c7-c586-e1e7caf80f48"
      },
      "execution_count": null,
      "outputs": [
        {
          "output_type": "execute_result",
          "data": {
            "text/plain": [
              "array([[7, 8, 9, 4],\n",
              "       [5, 6, 1, 2],\n",
              "       [5, 2, 3, 9]])"
            ]
          },
          "metadata": {},
          "execution_count": 15
        }
      ]
    },
    {
      "cell_type": "code",
      "source": [
        "s[0:,1]"
      ],
      "metadata": {
        "colab": {
          "base_uri": "https://localhost:8080/"
        },
        "id": "bZrTWS90JFcl",
        "outputId": "3106b22f-f8ce-49fc-ded0-fe8d9ac4b8ae"
      },
      "execution_count": null,
      "outputs": [
        {
          "output_type": "execute_result",
          "data": {
            "text/plain": [
              "array([2, 8, 6, 2])"
            ]
          },
          "metadata": {},
          "execution_count": 16
        }
      ]
    },
    {
      "cell_type": "code",
      "source": [
        "#zero matrix\n",
        "\n",
        "z=np.zeros([3,3],dtype=int)\n",
        "print(z)"
      ],
      "metadata": {
        "colab": {
          "base_uri": "https://localhost:8080/"
        },
        "id": "K_xN1KcuJTng",
        "outputId": "425f3f27-e70f-46ca-c6bb-ad984380852e"
      },
      "execution_count": null,
      "outputs": [
        {
          "output_type": "stream",
          "name": "stdout",
          "text": [
            "[[0 0 0]\n",
            " [0 0 0]\n",
            " [0 0 0]]\n"
          ]
        }
      ]
    },
    {
      "cell_type": "code",
      "source": [
        "z=np.zeros([3,3,3],dtype=complex)\n",
        "print(z)"
      ],
      "metadata": {
        "colab": {
          "base_uri": "https://localhost:8080/"
        },
        "id": "xR21n4iVKJHE",
        "outputId": "6f9c233b-3950-4b74-d189-add2f66f4ac5"
      },
      "execution_count": null,
      "outputs": [
        {
          "output_type": "stream",
          "name": "stdout",
          "text": [
            "[[[0.+0.j 0.+0.j 0.+0.j]\n",
            "  [0.+0.j 0.+0.j 0.+0.j]\n",
            "  [0.+0.j 0.+0.j 0.+0.j]]\n",
            "\n",
            " [[0.+0.j 0.+0.j 0.+0.j]\n",
            "  [0.+0.j 0.+0.j 0.+0.j]\n",
            "  [0.+0.j 0.+0.j 0.+0.j]]\n",
            "\n",
            " [[0.+0.j 0.+0.j 0.+0.j]\n",
            "  [0.+0.j 0.+0.j 0.+0.j]\n",
            "  [0.+0.j 0.+0.j 0.+0.j]]]\n"
          ]
        }
      ]
    },
    {
      "cell_type": "code",
      "source": [
        "z=np.zeros([2,3,3],dtype=int)\n",
        "print(z)"
      ],
      "metadata": {
        "colab": {
          "base_uri": "https://localhost:8080/"
        },
        "id": "wc5B7L4WKUw3",
        "outputId": "27eebcb0-3820-411f-a481-912f8c6e03e2"
      },
      "execution_count": null,
      "outputs": [
        {
          "output_type": "stream",
          "name": "stdout",
          "text": [
            "[[[0 0 0]\n",
            "  [0 0 0]\n",
            "  [0 0 0]]\n",
            "\n",
            " [[0 0 0]\n",
            "  [0 0 0]\n",
            "  [0 0 0]]]\n"
          ]
        }
      ]
    },
    {
      "cell_type": "code",
      "source": [
        "#one matrix\n",
        "\n",
        "z=np.ones([3,3])\n",
        "print(z)"
      ],
      "metadata": {
        "colab": {
          "base_uri": "https://localhost:8080/"
        },
        "id": "iPnKxg3LKfKj",
        "outputId": "64533c14-2216-4d0d-be8a-ad472b953234"
      },
      "execution_count": null,
      "outputs": [
        {
          "output_type": "stream",
          "name": "stdout",
          "text": [
            "[[1. 1. 1.]\n",
            " [1. 1. 1.]\n",
            " [1. 1. 1.]]\n"
          ]
        }
      ]
    },
    {
      "cell_type": "code",
      "source": [
        "z=np.ones([3,3],dtype=int)\n",
        "print(z)"
      ],
      "metadata": {
        "colab": {
          "base_uri": "https://localhost:8080/"
        },
        "id": "bTgpTrzAKmv_",
        "outputId": "b1d891ed-b17d-438e-d0f1-a1dd197b76c6"
      },
      "execution_count": null,
      "outputs": [
        {
          "output_type": "stream",
          "name": "stdout",
          "text": [
            "[[1 1 1]\n",
            " [1 1 1]\n",
            " [1 1 1]]\n"
          ]
        }
      ]
    },
    {
      "cell_type": "code",
      "source": [
        "#create two 2*2 matrix\n",
        "\n",
        "\n",
        "a=np.array([[1,2],[3,4]])\n",
        "print(a)\n",
        "b=np.array([[1,8],[6,4]])\n",
        "print(b)\n",
        "a.shape\n",
        "b.shape"
      ],
      "metadata": {
        "colab": {
          "base_uri": "https://localhost:8080/"
        },
        "id": "EPgIYXrMKrYO",
        "outputId": "f5953d8e-00ca-4d54-af23-711ef95fff1b"
      },
      "execution_count": null,
      "outputs": [
        {
          "output_type": "stream",
          "name": "stdout",
          "text": [
            "[[1 2]\n",
            " [3 4]]\n",
            "[[1 8]\n",
            " [6 4]]\n"
          ]
        },
        {
          "output_type": "execute_result",
          "data": {
            "text/plain": [
              "(2, 2)"
            ]
          },
          "metadata": {},
          "execution_count": 31
        }
      ]
    },
    {
      "cell_type": "code",
      "source": [
        "#matrix addition\n",
        "\n",
        "print(a+b)"
      ],
      "metadata": {
        "colab": {
          "base_uri": "https://localhost:8080/"
        },
        "id": "Vlf6AcR0LTMp",
        "outputId": "f9f576b7-7cc7-4dcc-ff8d-2c66c2070122"
      },
      "execution_count": null,
      "outputs": [
        {
          "output_type": "stream",
          "name": "stdout",
          "text": [
            "[[ 2 10]\n",
            " [ 9  8]]\n"
          ]
        }
      ]
    },
    {
      "cell_type": "code",
      "source": [
        "#matrix subtraction\n",
        "\n",
        "print(a-b)\n",
        "\n",
        "#matrix multiplication\n",
        "\n",
        "print(a@b)\n",
        "\n",
        "print(a.dot(b))"
      ],
      "metadata": {
        "colab": {
          "base_uri": "https://localhost:8080/"
        },
        "id": "r3LLig3XLhyA",
        "outputId": "81723d70-80c7-455f-9509-a6ad0dc5f7cc"
      },
      "execution_count": null,
      "outputs": [
        {
          "output_type": "stream",
          "name": "stdout",
          "text": [
            "[[ 0 -6]\n",
            " [-3  0]]\n",
            "[[13 16]\n",
            " [27 40]]\n",
            "[[13 16]\n",
            " [27 40]]\n"
          ]
        }
      ]
    },
    {
      "cell_type": "code",
      "source": [
        "#matrix division\n",
        "\n",
        "print(a/b)"
      ],
      "metadata": {
        "colab": {
          "base_uri": "https://localhost:8080/"
        },
        "id": "ZnOj6USWL33l",
        "outputId": "40b003f7-89c3-4ea7-9e66-a27a49bec8bc"
      },
      "execution_count": null,
      "outputs": [
        {
          "output_type": "stream",
          "name": "stdout",
          "text": [
            "[[1.   0.25]\n",
            " [0.5  1.  ]]\n"
          ]
        }
      ]
    },
    {
      "cell_type": "code",
      "source": [
        "#full matrix\n",
        "\n",
        "\n",
        "d=np.full([3,3],4,dtype=int)\n",
        "print(d)"
      ],
      "metadata": {
        "colab": {
          "base_uri": "https://localhost:8080/"
        },
        "id": "sYKCeK_UNPxy",
        "outputId": "81cbef6e-f653-488e-94ed-44d972d33530"
      },
      "execution_count": null,
      "outputs": [
        {
          "output_type": "stream",
          "name": "stdout",
          "text": [
            "[[4 4 4]\n",
            " [4 4 4]\n",
            " [4 4 4]]\n"
          ]
        }
      ]
    },
    {
      "cell_type": "code",
      "source": [
        "#create a 3*4 matrix with value 9 and dtype complex\n",
        "\n",
        "g=np.full([3,4],9,dtype=complex)\n",
        "print(g)"
      ],
      "metadata": {
        "colab": {
          "base_uri": "https://localhost:8080/"
        },
        "id": "cI3hqPqEOcif",
        "outputId": "a81a9586-91ea-40c7-be2b-251405140b5d"
      },
      "execution_count": null,
      "outputs": [
        {
          "output_type": "stream",
          "name": "stdout",
          "text": [
            "[[9.+0.j 9.+0.j 9.+0.j 9.+0.j]\n",
            " [9.+0.j 9.+0.j 9.+0.j 9.+0.j]\n",
            " [9.+0.j 9.+0.j 9.+0.j 9.+0.j]]\n"
          ]
        }
      ]
    },
    {
      "cell_type": "code",
      "source": [
        "#identity matrix\n",
        "\n",
        "i=np.identity(3,dtype=int)\n",
        "print(i)\n",
        "\n",
        "z=np.eye(2,dtype=int)\n",
        "print(z)"
      ],
      "metadata": {
        "colab": {
          "base_uri": "https://localhost:8080/"
        },
        "id": "Zg4YWF0bO055",
        "outputId": "c93deaca-c21b-4557-91b4-dc84c9e12945"
      },
      "execution_count": null,
      "outputs": [
        {
          "output_type": "stream",
          "name": "stdout",
          "text": [
            "[[1 0 0]\n",
            " [0 1 0]\n",
            " [0 0 1]]\n",
            "[[1 0]\n",
            " [0 1]]\n"
          ]
        }
      ]
    },
    {
      "cell_type": "code",
      "source": [
        "#create a 4*4 matrix\n",
        "\n",
        "p=np.array([[1,4,7,8],[8,2,3,4],[5,1,9,2],[8,1,4,5]])\n",
        "print(p)\n",
        "print(p.size)"
      ],
      "metadata": {
        "colab": {
          "base_uri": "https://localhost:8080/"
        },
        "id": "Ueg8_FTDP8WW",
        "outputId": "7b8f67fb-8e76-4e5f-82c9-a1db91376567"
      },
      "execution_count": null,
      "outputs": [
        {
          "output_type": "stream",
          "name": "stdout",
          "text": [
            "[[1 4 7 8]\n",
            " [8 2 3 4]\n",
            " [5 1 9 2]\n",
            " [8 1 4 5]]\n",
            "16\n"
          ]
        }
      ]
    },
    {
      "cell_type": "code",
      "source": [
        "a=p.reshape(8,2)\n",
        "print(a)"
      ],
      "metadata": {
        "colab": {
          "base_uri": "https://localhost:8080/"
        },
        "id": "4J74vLBGRajS",
        "outputId": "bee6de2a-e87c-4d67-b1e2-3b079cb03388"
      },
      "execution_count": null,
      "outputs": [
        {
          "output_type": "stream",
          "name": "stdout",
          "text": [
            "[[1 4]\n",
            " [7 8]\n",
            " [8 2]\n",
            " [3 4]\n",
            " [5 1]\n",
            " [9 2]\n",
            " [8 1]\n",
            " [4 5]]\n"
          ]
        }
      ]
    },
    {
      "cell_type": "code",
      "source": [
        "#arange\n",
        "\n",
        "a=np.arange(1,10,2)\n",
        "print(a)"
      ],
      "metadata": {
        "colab": {
          "base_uri": "https://localhost:8080/"
        },
        "id": "hkpD0594RoFp",
        "outputId": "b7af89aa-f8cc-4a65-9623-d52bc741e7f6"
      },
      "execution_count": null,
      "outputs": [
        {
          "output_type": "stream",
          "name": "stdout",
          "text": [
            "[1 3 5 7 9]\n"
          ]
        }
      ]
    },
    {
      "cell_type": "code",
      "source": [
        "#create 5*2 matrix using arange\n",
        "\n",
        "s=np.arange(1,11).reshape(5,2)\n",
        "print(s)"
      ],
      "metadata": {
        "colab": {
          "base_uri": "https://localhost:8080/"
        },
        "id": "Jpbruuy0SXBJ",
        "outputId": "976d15d9-1670-466b-8ff9-e7fd998242fe"
      },
      "execution_count": null,
      "outputs": [
        {
          "output_type": "stream",
          "name": "stdout",
          "text": [
            "[[ 1  2]\n",
            " [ 3  4]\n",
            " [ 5  6]\n",
            " [ 7  8]\n",
            " [ 9 10]]\n"
          ]
        }
      ]
    },
    {
      "cell_type": "code",
      "source": [
        "#create a 3*3 matrix with float values\n",
        "\n",
        "\n",
        "a=np.array([[2.8,3.2,1.5],[5.4,4.6,9.2],[2.6,8.1,2.7]])\n",
        "print(a)"
      ],
      "metadata": {
        "colab": {
          "base_uri": "https://localhost:8080/"
        },
        "id": "saDvp4vQTDyQ",
        "outputId": "d91aad45-04e6-4fea-a8d3-7b06918ae6fd"
      },
      "execution_count": null,
      "outputs": [
        {
          "output_type": "stream",
          "name": "stdout",
          "text": [
            "[[2.8 3.2 1.5]\n",
            " [5.4 4.6 9.2]\n",
            " [2.6 8.1 2.7]]\n"
          ]
        }
      ]
    },
    {
      "cell_type": "code",
      "source": [
        "#floor\n",
        "\n",
        "o=np.floor(a)\n",
        "o"
      ],
      "metadata": {
        "colab": {
          "base_uri": "https://localhost:8080/"
        },
        "id": "mnfrejG8Ugpb",
        "outputId": "08bc7d65-d1f4-45b2-cf53-be770fec6306"
      },
      "execution_count": null,
      "outputs": [
        {
          "output_type": "execute_result",
          "data": {
            "text/plain": [
              "array([[2., 3., 1.],\n",
              "       [5., 4., 9.],\n",
              "       [2., 8., 2.]])"
            ]
          },
          "metadata": {},
          "execution_count": 57
        }
      ]
    },
    {
      "cell_type": "code",
      "source": [
        "#ceil\n",
        "\n",
        "\n",
        "s=np.ceil(a)\n",
        "s"
      ],
      "metadata": {
        "colab": {
          "base_uri": "https://localhost:8080/"
        },
        "id": "euOZh1BXVCek",
        "outputId": "aea06290-3053-4c2b-f745-7278f038a774"
      },
      "execution_count": null,
      "outputs": [
        {
          "output_type": "execute_result",
          "data": {
            "text/plain": [
              "array([[ 3.,  4.,  2.],\n",
              "       [ 6.,  5., 10.],\n",
              "       [ 3.,  9.,  3.]])"
            ]
          },
          "metadata": {},
          "execution_count": 59
        }
      ]
    },
    {
      "cell_type": "code",
      "source": [
        "#round\n",
        "\n",
        "z=np.round(a)\n",
        "z"
      ],
      "metadata": {
        "colab": {
          "base_uri": "https://localhost:8080/"
        },
        "id": "9GuVdF52VZzw",
        "outputId": "32fa5864-2687-4715-b554-66a9b3a9eb05"
      },
      "execution_count": null,
      "outputs": [
        {
          "output_type": "execute_result",
          "data": {
            "text/plain": [
              "array([[3., 3., 2.],\n",
              "       [5., 5., 9.],\n",
              "       [3., 8., 3.]])"
            ]
          },
          "metadata": {},
          "execution_count": 61
        }
      ]
    },
    {
      "cell_type": "code",
      "source": [
        "#create 3*3 matrix\n",
        "import numpy as np\n",
        "a=np.arange(1,10).reshape(3,3)\n",
        "print(a)\n",
        "a.max()\n",
        "a.max(axis=1)          #max of row\n",
        "a.max(axis=0)          #max of column\n",
        "\n",
        "a.max()\n",
        "a.min()\n",
        "\n",
        "a.sum()         #total sum\n",
        "a.sum(axis=1)    #sum of row\n",
        "np.sqrt(a)    #sqrt of each element\n",
        "np.sin(a)\n",
        "np.cos(a)\n",
        "np.tan(a)"
      ],
      "metadata": {
        "colab": {
          "base_uri": "https://localhost:8080/"
        },
        "id": "9dwjz1DlW789",
        "outputId": "90ccced5-4c85-4768-fdb8-ea3609672711"
      },
      "execution_count": 9,
      "outputs": [
        {
          "output_type": "stream",
          "name": "stdout",
          "text": [
            "[[1 2 3]\n",
            " [4 5 6]\n",
            " [7 8 9]]\n"
          ]
        },
        {
          "output_type": "execute_result",
          "data": {
            "text/plain": [
              "array([[ 1.55740772, -2.18503986, -0.14254654],\n",
              "       [ 1.15782128, -3.38051501, -0.29100619],\n",
              "       [ 0.87144798, -6.79971146, -0.45231566]])"
            ]
          },
          "metadata": {},
          "execution_count": 9
        }
      ]
    },
    {
      "cell_type": "code",
      "source": [
        "#flatten    -  to convert to one-dimension\n",
        "\n",
        "a.flatten()"
      ],
      "metadata": {
        "colab": {
          "base_uri": "https://localhost:8080/"
        },
        "id": "_POBvDeDfS4I",
        "outputId": "2e06b70e-4d61-4257-8f06-720aeaf0a37e"
      },
      "execution_count": 10,
      "outputs": [
        {
          "output_type": "execute_result",
          "data": {
            "text/plain": [
              "array([1, 2, 3, 4, 5, 6, 7, 8, 9])"
            ]
          },
          "metadata": {},
          "execution_count": 10
        }
      ]
    },
    {
      "cell_type": "code",
      "source": [
        "#sort\n",
        "\n",
        "#create a 3*3 matrix\n",
        "a=np.array([[1,4,5],[8,7,3],[9,12,4]])\n",
        "print(a)\n",
        "b=np.sort(a,axis=0)     #sorts based on column\n",
        "print(b)\n",
        "c=np.argsort(a,axis=1)     #sorts on basis of index\n",
        "print(c)\n"
      ],
      "metadata": {
        "colab": {
          "base_uri": "https://localhost:8080/"
        },
        "id": "Tv7YS4ZYlPj-",
        "outputId": "7be476ad-8831-418d-807a-9bea95f39c51"
      },
      "execution_count": 17,
      "outputs": [
        {
          "output_type": "stream",
          "name": "stdout",
          "text": [
            "[[ 1  4  5]\n",
            " [ 8  7  3]\n",
            " [ 9 12  4]]\n",
            "[[ 1  4  3]\n",
            " [ 8  7  4]\n",
            " [ 9 12  5]]\n",
            "[[0 1 2]\n",
            " [2 1 0]\n",
            " [2 0 1]]\n"
          ]
        }
      ]
    },
    {
      "cell_type": "code",
      "source": [],
      "metadata": {
        "id": "t7bFFSrEnkeG"
      },
      "execution_count": null,
      "outputs": []
    }
  ]
}